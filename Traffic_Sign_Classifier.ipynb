{
 "cells": [
  {
   "cell_type": "markdown",
   "metadata": {},
   "source": [
    "# Self-Driving Car Engineer Nanodegree\n",
    "\n",
    "## Deep Learning\n",
    "\n",
    "## Project: Build a Traffic Sign Recognition Classifier\n",
    "\n",
    "In this notebook, a template is provided for you to implement your functionality in stages, which is required to successfully complete this project. If additional code is required that cannot be included in the notebook, be sure that the Python code is successfully imported and included in your submission if necessary. \n",
    "\n",
    "> **Note**: Once you have completed all of the code implementations, you need to finalize your work by exporting the iPython Notebook as an HTML document. Before exporting the notebook to html, all of the code cells need to have been run so that reviewers can see the final implementation and output. You can then export the notebook by using the menu above and navigating to  \\n\",\n",
    "    \"**File -> Download as -> HTML (.html)**. Include the finished document along with this notebook as your submission. \n",
    "\n",
    "In addition to implementing code, there is a writeup to complete. The writeup should be completed in a separate file, which can be either a markdown file or a pdf document. There is a [write up template](https://github.com/udacity/CarND-Traffic-Sign-Classifier-Project/blob/master/writeup_template.md) that can be used to guide the writing process. Completing the code template and writeup template will cover all of the [rubric points](https://review.udacity.com/#!/rubrics/481/view) for this project.\n",
    "\n",
    "The [rubric](https://review.udacity.com/#!/rubrics/481/view) contains \"Stand Out Suggestions\" for enhancing the project beyond the minimum requirements. The stand out suggestions are optional. If you decide to pursue the \"stand out suggestions\", you can include the code in this Ipython notebook and also discuss the results in the writeup file.\n",
    "\n",
    "\n",
    ">**Note:** Code and Markdown cells can be executed using the **Shift + Enter** keyboard shortcut. In addition, Markdown cells can be edited by typically double-clicking the cell to enter edit mode."
   ]
  },
  {
   "cell_type": "markdown",
   "metadata": {},
   "source": [
    "---\n",
    "## Step 0: Load The Data"
   ]
  },
  {
   "cell_type": "code",
   "execution_count": 1,
   "metadata": {},
   "outputs": [],
   "source": [
    "# Load pickled data\n",
    "import pickle\n",
    "\n",
    "# Save the data in the workspace, one level above the notebook. \n",
    "training_file = 'data/train.p'\n",
    "validation_file='data/valid.p'\n",
    "testing_file = 'data/test.p'\n",
    "\n",
    "with open(training_file, mode='rb') as f:\n",
    "    train = pickle.load(f)\n",
    "with open(validation_file, mode='rb') as f:\n",
    "    valid = pickle.load(f)\n",
    "with open(testing_file, mode='rb') as f:\n",
    "    test = pickle.load(f)\n",
    "    \n",
    "X_train, y_train = train['features'], train['labels']\n",
    "X_valid, y_valid = valid['features'], valid['labels']\n",
    "X_test, y_test = test['features'], test['labels']"
   ]
  },
  {
   "cell_type": "markdown",
   "metadata": {},
   "source": [
    "---\n",
    "\n",
    "## Step 1: Dataset Summary & Exploration\n",
    "\n",
    "The pickled data is a dictionary with 4 key/value pairs:\n",
    "\n",
    "- `'features'` is a 4D array containing raw pixel data of the traffic sign images, (num examples, width, height, channels).\n",
    "- `'labels'` is a 1D array containing the label/class id of the traffic sign. The file `signnames.csv` contains id -> name mappings for each id.\n",
    "- `'sizes'` is a list containing tuples, (width, height) representing the original width and height the image.\n",
    "- `'coords'` is a list containing tuples, (x1, y1, x2, y2) representing coordinates of a bounding box around the sign in the image. **THESE COORDINATES ASSUME THE ORIGINAL IMAGE. THE PICKLED DATA CONTAINS RESIZED VERSIONS (32 by 32) OF THESE IMAGES**\n",
    "\n",
    "Complete the basic data summary below. Use python, numpy and/or pandas methods to calculate the data summary rather than hard coding the results. For example, the [pandas shape method](http://pandas.pydata.org/pandas-docs/stable/generated/pandas.DataFrame.shape.html) might be useful for calculating some of the summary results. "
   ]
  },
  {
   "cell_type": "markdown",
   "metadata": {},
   "source": [
    "### Provide a Basic Summary of the Data Set Using Python, Numpy and/or Pandas"
   ]
  },
  {
   "cell_type": "code",
   "execution_count": 2,
   "metadata": {},
   "outputs": [
    {
     "name": "stdout",
     "output_type": "stream",
     "text": [
      "Number of training examples = 34799\n",
      "Number of validation examples = 4410\n",
      "Number of testing examples = 12630\n",
      "Image data shape = 32 * 32 * 3 = 3072\n",
      "Number of classes = 43\n"
     ]
    }
   ],
   "source": [
    "### Replace each question mark with the appropriate value. \n",
    "### Use python, pandas or numpy methods rather than hard coding the results\n",
    "import numpy as np\n",
    "\n",
    "# Number of training examples\n",
    "train_data_shape = X_train.shape\n",
    "n_train = train_data_shape[0]\n",
    "\n",
    "# Number of validation examples\n",
    "validation_data_shape = X_valid.shape\n",
    "n_validation = validation_data_shape[0]\n",
    "\n",
    "# Number of testing examples.\n",
    "test_data_shape = X_test.shape\n",
    "n_test = test_data_shape[0]\n",
    "\n",
    "# What's the shape of an traffic sign image?\n",
    "x_axis = train_data_shape[1]\n",
    "y_axis = train_data_shape[2]\n",
    "depth = train_data_shape[3]\n",
    "image_shape = \"{} * {} * {} = {}\".format(x_axis, y_axis, depth, x_axis * y_axis * depth)\n",
    "\n",
    "# How many unique classes/labels there are in the dataset.\n",
    "n_classes = np.unique(train['labels']).size\n",
    "\n",
    "print(\"Number of training examples =\", n_train)\n",
    "print(\"Number of validation examples =\", n_validation)\n",
    "print(\"Number of testing examples =\", n_test)\n",
    "print(\"Image data shape =\", image_shape)\n",
    "print(\"Number of classes =\", n_classes)"
   ]
  },
  {
   "cell_type": "markdown",
   "metadata": {},
   "source": [
    "### Include an exploratory visualization of the dataset"
   ]
  },
  {
   "cell_type": "markdown",
   "metadata": {},
   "source": [
    "Visualize the German Traffic Signs Dataset using the pickled file(s). This is open ended, suggestions include: plotting traffic sign images, plotting the count of each sign, etc. \n",
    "\n",
    "The [Matplotlib](http://matplotlib.org/) [examples](http://matplotlib.org/examples/index.html) and [gallery](http://matplotlib.org/gallery.html) pages are a great resource for doing visualizations in Python.\n",
    "\n",
    "**NOTE:** It's recommended you start with something simple first. If you wish to do more, come back to it after you've completed the rest of the sections. It can be interesting to look at the distribution of classes in the training, validation and test set. Is the distribution the same? Are there more examples of some classes than others?"
   ]
  },
  {
   "cell_type": "code",
   "execution_count": 3,
   "metadata": {},
   "outputs": [
    {
     "data": {
      "image/png": "[encoded data removed]",
      "text/plain": [
       "<matplotlib.figure.Figure at 0x7f593805b940>"
      ]
     },
     "metadata": {
      "needs_background": "light"
     },
     "output_type": "display_data"
    }
   ],
   "source": [
    "### Data exploration visualization code.\n",
    "import matplotlib.pyplot as plt\n",
    "# Visualizations will be shown in the notebook.\n",
    "%matplotlib inline\n",
    "\n",
    "fig, axs = plt.subplots(1, 3, figsize=(15, 5), sharey = True)\n",
    "\n",
    "axs[0].hist(y_train)\n",
    "axs[0].set_ylabel('Number of classes')\n",
    "axs[0].set_xlabel('Classes')\n",
    "axs[0].set_title('Training set')\n",
    "\n",
    "axs[1].hist(y_test)\n",
    "axs[1].set_title('Validation set')\n",
    "axs[1].set_xlabel('Classes')\n",
    "\n",
    "axs[2].hist(y_valid)\n",
    "axs[2].set_title('Test set')\n",
    "axs[2].set_xlabel('Classes')\n",
    "\n",
    "fig.suptitle('Distribution of classes in the training, validation and test set', fontsize=16)\n",
    "plt.savefig('./examples/visualization.jpg')"
   ]
  },
  {
   "cell_type": "markdown",
   "metadata": {},
   "source": [
    "### Plot a random traffic sign image from the Training dataset"
   ]
  },
  {
   "cell_type": "code",
   "execution_count": 4,
   "metadata": {},
   "outputs": [
    {
     "data": {
      "image/png": "[encoded data removed]",
      "text/plain": [
       "<matplotlib.figure.Figure at 0x7f59064eda58>"
      ]
     },
     "metadata": {
      "needs_background": "light"
     },
     "output_type": "display_data"
    }
   ],
   "source": [
    "# Pick a random index from the dataset\n",
    "import random\n",
    "\n",
    "index = random.randint(0, len(X_train))\n",
    "image = X_train[index]\n",
    "\n",
    "plt.imshow(image)\n",
    "plt.savefig('./examples/traffic_sign_example.jpg')"
   ]
  },
  {
   "cell_type": "markdown",
   "metadata": {},
   "source": [
    "#### Verify that the label corresponds to the traffic sign"
   ]
  },
  {
   "cell_type": "code",
   "execution_count": 5,
   "metadata": {},
   "outputs": [
    {
     "name": "stdout",
     "output_type": "stream",
     "text": [
      "Ahead only\n"
     ]
    }
   ],
   "source": [
    "# The file signnames.csv contains id -> name mappings for each id.\n",
    "# Read the CSV file and verify the label that corresponds to the index id.\n",
    "\n",
    "from pandas import read_csv\n",
    "\n",
    "filename = 'signnames.csv'\n",
    "dataframe = read_csv(filename)\n",
    "\n",
    "array = dataframe.values\n",
    "\n",
    "labels = array[:,1]\n",
    "traffic_sign = labels[y_train[index]]\n",
    "print(traffic_sign)"
   ]
  },
  {
   "cell_type": "markdown",
   "metadata": {},
   "source": [
    "----\n",
    "\n",
    "## Step 2: Design and Test a Model Architecture\n",
    "\n",
    "Design and implement a deep learning model that learns to recognize traffic signs. Train and test your model on the [German Traffic Sign Dataset](http://benchmark.ini.rub.de/?section=gtsrb&subsection=dataset).\n",
    "\n",
    "The LeNet-5 implementation shown in the [classroom](https://classroom.udacity.com/nanodegrees/nd013/parts/fbf77062-5703-404e-b60c-95b78b2f3f9e/modules/6df7ae49-c61c-4bb2-a23e-6527e69209ec/lessons/601ae704-1035-4287-8b11-e2c2716217ad/concepts/d4aca031-508f-4e0b-b493-e7b706120f81) at the end of the CNN lesson is a solid starting point. You'll have to change the number of classes and possibly the preprocessing, but aside from that it's plug and play! \n",
    "\n",
    "With the LeNet-5 solution from the lecture, you should expect a validation set accuracy of about 0.89. To meet specifications, the validation set accuracy will need to be at least 0.93. It is possible to get an even higher accuracy, but 0.93 is the minimum for a successful project submission. \n",
    "\n",
    "There are various aspects to consider when thinking about this problem:\n",
    "\n",
    "- Neural network architecture (is the network over or underfitting?)\n",
    "- Play around preprocessing techniques (normalization, rgb to grayscale, etc)\n",
    "- Number of examples per label (some have more than others).\n",
    "- Generate fake data.\n",
    "\n",
    "Here is an example of a [published baseline model on this problem](http://yann.lecun.com/exdb/publis/pdf/sermanet-ijcnn-11.pdf). It's not required to be familiar with the approach used in the paper but, it's good practice to try to read papers like these."
   ]
  },
  {
   "cell_type": "markdown",
   "metadata": {},
   "source": [
    "### Pre-process the Data Set (normalization, grayscale, etc.)"
   ]
  },
  {
   "cell_type": "markdown",
   "metadata": {},
   "source": [
    "Minimally, the image data should be normalized so that the data has mean zero and equal variance. For image data, `(pixel - 128)/ 128` is a quick way to approximately normalize the data and can be used in this project. \n",
    "\n",
    "Other pre-processing steps are optional. You can try different techniques to see if it improves performance. \n",
    "\n",
    "Use the code cell (or multiple code cells, if necessary) to implement the first step of your project."
   ]
  },
  {
   "cell_type": "code",
   "execution_count": null,
   "metadata": {},
   "outputs": [],
   "source": [
    "### Preprocess the data here. It is required to normalize the data. Other preprocessing steps could include \n",
    "### converting to grayscale, etc.\n",
    "### Feel free to use as many code cells as needed."
   ]
  },
  {
   "cell_type": "markdown",
   "metadata": {},
   "source": [
    "#### Setup TensorFlow"
   ]
  },
  {
   "cell_type": "code",
   "execution_count": 6,
   "metadata": {},
   "outputs": [],
   "source": [
    "import tensorflow as tf"
   ]
  },
  {
   "cell_type": "markdown",
   "metadata": {},
   "source": [
    "#### Grayscaling function"
   ]
  },
  {
   "cell_type": "code",
   "execution_count": 7,
   "metadata": {},
   "outputs": [],
   "source": [
    "def grayscale(images):\n",
    "    return np.mean(images, axis = 3, keepdims=True)"
   ]
  },
  {
   "cell_type": "markdown",
   "metadata": {},
   "source": [
    "#### Normalization function"
   ]
  },
  {
   "cell_type": "code",
   "execution_count": 8,
   "metadata": {},
   "outputs": [],
   "source": [
    "def normalize(images):\n",
    "    return (images - 128) / 128"
   ]
  },
  {
   "cell_type": "markdown",
   "metadata": {},
   "source": [
    "#### Grayscale the training dataset"
   ]
  },
  {
   "cell_type": "code",
   "execution_count": 9,
   "metadata": {},
   "outputs": [
    {
     "name": "stdout",
     "output_type": "stream",
     "text": [
      "(34799, 32, 32, 1)\n"
     ]
    }
   ],
   "source": [
    "# Average grayscale from RGB. \n",
    "# https://stackoverflow.com/questions/26201839/average-grayscale-from-rgb-image-in-python\n",
    "\n",
    "X_train_grayed = grayscale(X_train)\n",
    "X_valid_grayed = grayscale(X_valid)\n",
    "X_test_grayed = grayscale(X_test)\n",
    "\n",
    "print(X_train_grayed.shape)"
   ]
  },
  {
   "cell_type": "code",
   "execution_count": 10,
   "metadata": {},
   "outputs": [
    {
     "name": "stdout",
     "output_type": "stream",
     "text": [
      "(32, 32, 1)\n"
     ]
    },
    {
     "data": {
      "image/png": "[encoded data removed]",
      "text/plain": [
       "<matplotlib.figure.Figure at 0x7f58efc440f0>"
      ]
     },
     "metadata": {
      "needs_background": "light"
     },
     "output_type": "display_data"
    }
   ],
   "source": [
    "# Print a grayed image\n",
    "\n",
    "grayed_image = X_train_grayed[index]\n",
    "plt.imshow(grayed_image.squeeze())\n",
    "print(grayed_image.shape)"
   ]
  },
  {
   "cell_type": "markdown",
   "metadata": {},
   "source": [
    "#### Normalize the pixel values"
   ]
  },
  {
   "cell_type": "code",
   "execution_count": 11,
   "metadata": {},
   "outputs": [
    {
     "data": {
      "image/png": "[encoded data removed]",
      "text/plain": [
       "<matplotlib.figure.Figure at 0x7f5938695d30>"
      ]
     },
     "metadata": {
      "needs_background": "light"
     },
     "output_type": "display_data"
    }
   ],
   "source": [
    "# Rescale images pixel values in the range 0-1\n",
    "\n",
    "X_train_normalized = normalize(X_train_grayed)\n",
    "X_valid_normalized = normalize(X_valid_grayed)\n",
    "X_test_normalized = normalize(X_test_grayed)\n",
    "\n",
    "fig, (ax1, ax2) = plt.subplots(1, 2, sharey = False)\n",
    "\n",
    "ax1.set_title('RGB image')\n",
    "ax1.imshow(X_train[index])\n",
    "ax2.set_title('Grayscaled normalized image')\n",
    "ax2.imshow(X_train_normalized[index].squeeze(), cmap = 'gray')\n",
    "plt.savefig('./examples/grayed_traffic_sign_example.jpg')"
   ]
  },
  {
   "cell_type": "markdown",
   "metadata": {},
   "source": [
    "#### Experiments: Jittered dataset\n",
    "\n",
    "\n",
    "As pointed out in an article by Pierre Sermant and Yann LeCun, the dataset provided by GTSRB presents a number of difficult challenges due to real-world variabilities such as viewpoint variations, phisical damage, color fading and low input resolution. \n",
    "We just tried to address some of these challenges by normalizing the images and grayscaling them. Additionally we will build a jittered dataset by adding transformed versions of the original dataset.\n",
    "\n",
    "##### See article http://yann.lecun.com/exdb/publis/pdf/sermanet-ijcnn-11.pdf (III. Experiments, A.2)"
   ]
  },
  {
   "cell_type": "markdown",
   "metadata": {},
   "source": [
    "#### Rotate the images\n",
    "\n",
    "A transformed version of the training dataset is generated by rotating each image by a random angle between -15 and + 15 degrees. It is then added to the original one, thus making a dataset for training that is twice in size than before. "
   ]
  },
  {
   "cell_type": "code",
   "execution_count": 12,
   "metadata": {},
   "outputs": [
    {
     "name": "stdout",
     "output_type": "stream",
     "text": [
      "<class 'numpy.ndarray'>\n",
      "(34799, 32, 32, 1)\n",
      "(69598, 32, 32, 1)\n"
     ]
    },
    {
     "data": {
      "text/plain": [
       "<matplotlib.image.AxesImage at 0x7f58cee605c0>"
      ]
     },
     "execution_count": 12,
     "metadata": {},
     "output_type": "execute_result"
    },
    {
     "data": {
      "image/png": "[encoded data removed]",
      "text/plain": [
       "<matplotlib.figure.Figure at 0x7f58d65e79b0>"
      ]
     },
     "metadata": {
      "needs_background": "light"
     },
     "output_type": "display_data"
    }
   ],
   "source": [
    "from scipy import ndimage\n",
    "from random import seed\n",
    "from random import randint\n",
    "\n",
    "# Seed random number generator.\n",
    "seed(1)\n",
    "\n",
    "# Create an empty list.\n",
    "X_train_rotated_list = []\n",
    "# Create an empty Numpy array.\n",
    "X_train_rotated = np.array([])\n",
    "\n",
    "# Loop through the dataset\n",
    "for normalized_image in X_train_normalized:\n",
    "    # Generate some random angle between -15 and 15 degrees.\n",
    "    angle = randint(-15, 15) \n",
    "    # Generate a rotated image.\n",
    "    rotated_img = ndimage.rotate(normalized_image, angle, reshape=False)\n",
    "    # Append to the list. \n",
    "    X_train_rotated_list.append(rotated_img)\n",
    "    \n",
    "# Stack the list of arrays into the empty numpy array.\n",
    "# Stack arrays in sequence vertically (row wise).\n",
    "X_train_rotated = np.stack(X_train_rotated_list, axis = 0)\n",
    "\n",
    "# Print informations about the new dataset.  \n",
    "print(type(X_train_rotated))\n",
    "print(X_train_rotated.shape)\n",
    "\n",
    "# Concatenate the new array into the original dataset to expand it. \n",
    "X_train_normalized = np.concatenate([X_train_normalized, X_train_rotated])\n",
    "# Update the labels array accordingly.\n",
    "y_train = np.concatenate([y_train, y_train])\n",
    "\n",
    "# Print the dimensions of the new dataset.  \n",
    "print(X_train_normalized.shape)\n",
    "\n",
    "# Plot an image.\n",
    "plt.imshow(X_train_rotated[index].squeeze(), cmap = 'gray')"
   ]
  },
  {
   "cell_type": "markdown",
   "metadata": {},
   "source": [
    "#### Translate the images\n",
    "\n",
    "Another transformed version of the training dataset is generated by shifting each image by [-2, +2] pixels and it is then added to the original one. \n",
    "The resulting training dataset now yields 139196 samples. "
   ]
  },
  {
   "cell_type": "code",
   "execution_count": 13,
   "metadata": {},
   "outputs": [
    {
     "name": "stdout",
     "output_type": "stream",
     "text": [
      "<class 'numpy.ndarray'>\n",
      "(69598, 32, 32, 1)\n",
      "(139196, 32, 32, 1)\n"
     ]
    },
    {
     "data": {
      "text/plain": [
       "<matplotlib.image.AxesImage at 0x7f58ce303208>"
      ]
     },
     "execution_count": 13,
     "metadata": {},
     "output_type": "execute_result"
    },
    {
     "data": {
      "image/png": "[encoded data removed]",
      "text/plain": [
       "<matplotlib.figure.Figure at 0x7f58ceb82470>"
      ]
     },
     "metadata": {
      "needs_background": "light"
     },
     "output_type": "display_data"
    }
   ],
   "source": [
    "# Seed random number generator.\n",
    "seed(1)\n",
    "\n",
    "# Create an empty list.\n",
    "X_train_translated_list = []\n",
    "# Create an empty Numpy array.\n",
    "X_train_translated = np.array([])\n",
    "\n",
    "# Loop through the dataset\n",
    "for normalized_image in X_train_normalized:\n",
    "    # Generate some random pixel value between -2 and 2.\n",
    "    pixels = randint(-2, 2) \n",
    "    # Generate a translated image.\n",
    "    shifted_img = ndimage.shift(normalized_image, (pixels, pixels, 0), mode='nearest')\n",
    "    # Append to the list. \n",
    "    X_train_translated_list.append(shifted_img)\n",
    "    \n",
    "# Stack the list of arrays into the empty numpy array.\n",
    "# Stack arrays in sequence vertically (row wise).\n",
    "X_train_translated = np.stack(X_train_translated_list, axis = 0)\n",
    "\n",
    "# Print informations about the new dataset.  \n",
    "print(type(X_train_translated))\n",
    "print(X_train_translated.shape)\n",
    "\n",
    "# Concatenate the new array into the original dataset to expand it. \n",
    "X_train_normalized = np.concatenate([X_train_normalized, X_train_translated])\n",
    "# Update the labels array accordingly.\n",
    "y_train = np.concatenate([y_train, y_train])\n",
    "\n",
    "# Print the dimensions of the new dataset.  \n",
    "print(X_train_normalized.shape)\n",
    "\n",
    "# Plot an image.\n",
    "plt.imshow(X_train_translated[index].squeeze(), cmap = 'gray')"
   ]
  },
  {
   "cell_type": "markdown",
   "metadata": {},
   "source": [
    "### Shuffle the training data"
   ]
  },
  {
   "cell_type": "code",
   "execution_count": 14,
   "metadata": {},
   "outputs": [
    {
     "name": "stderr",
     "output_type": "stream",
     "text": [
      "/root/miniconda3/envs/carnd-term1/lib/python3.5/site-packages/sklearn/utils/fixes.py:313: FutureWarning: numpy not_equal will not check object identity in the future. The comparison did not return the same result as suggested by the identity (`is`)) and will change.\n",
      "  _nan_object_mask = _nan_object_array != _nan_object_array\n"
     ]
    }
   ],
   "source": [
    "# Avoid a warning issue due to an old version\n",
    "# See issue >> https://github.com/scikit-learn/scikit-learn/issues/12551\n",
    "from sklearn.utils import shuffle\n",
    "\n",
    "import warnings\n",
    "with warnings.catch_warnings():\n",
    "    warnings.filterwarnings(\"ignore\", category=FutureWarning)\n",
    "    X_train_normalized, y_train = shuffle(X_train_normalized, y_train)"
   ]
  },
  {
   "cell_type": "markdown",
   "metadata": {},
   "source": [
    "### Model Architecture"
   ]
  },
  {
   "cell_type": "code",
   "execution_count": 15,
   "metadata": {},
   "outputs": [],
   "source": [
    "### Define your architecture here.\n",
    "### Feel free to use as many code cells as needed.\n",
    "\n",
    "EPOCHS = 15\n",
    "BATCH_SIZE = 128"
   ]
  },
  {
   "cell_type": "markdown",
   "metadata": {},
   "source": [
    "### Implement LeNet-5\n",
    "Implement the [LeNet-5](http://yann.lecun.com/exdb/lenet/) neural network architecture.\n",
    "\n",
    "### Input\n",
    "The LeNet architecture accepts a 32x32xC image as input, where C is the number of color channels. German Traffic Sign Dataset images are in color, so C is 3 in this case.\n",
    "\n",
    "### Architecture\n",
    "**Layer 1: Convolutional.** The output shape should be 28x28x6.\n",
    "\n",
    "**Activation.** ReLU.\n",
    "\n",
    "**Pooling.** The output shape should be 14x14x6.\n",
    "\n",
    "**Layer 2: Convolutional.** The output shape should be 10x10x16.\n",
    "\n",
    "**Activation.** ReLU.\n",
    "\n",
    "**Pooling.** The output shape should be 5x5x16.\n",
    "\n",
    "**Flatten.** Flatten the output shape of the final pooling layer such that it's 1D instead of 3D. The easiest way to do is by using `tf.contrib.layers.flatten`, which is already imported for you.\n",
    "\n",
    "**Layer 3: Fully Connected.** This should have 120 outputs.\n",
    "\n",
    "**Activation.** ReLU.\n",
    "\n",
    "**Layer 4: Fully Connected.** This should have 84 outputs.\n",
    "\n",
    "**Activation.** ReLU.\n",
    "\n",
    "**Layer 5: Fully Connected (Logits).** This should have 43 outputs.\n",
    "\n",
    "### Output\n",
    "Return the result of the 2nd fully connected layer."
   ]
  },
  {
   "cell_type": "code",
   "execution_count": 16,
   "metadata": {},
   "outputs": [],
   "source": [
    "from tensorflow.contrib.layers import flatten\n",
    "\n",
    "def LeNet(x):    \n",
    "    # Arguments used for tf.truncated_normal, randomly defines variables for the weights and biases for each layer\n",
    "    mu = 0\n",
    "    sigma = 0.1\n",
    "    \n",
    "    # SOLUTION: Layer 1: Convolutional. Input = 32x32x1. Output = 28x28x6.\n",
    "    conv1_W = tf.Variable(tf.truncated_normal(shape=(5, 5, 1, 6), mean = mu, stddev = sigma))\n",
    "    conv1_b = tf.Variable(tf.zeros(6))\n",
    "    conv1   = tf.nn.conv2d(x, conv1_W, strides=[1, 1, 1, 1], padding='VALID') + conv1_b\n",
    "\n",
    "    # SOLUTION: Activation.\n",
    "    conv1 = tf.nn.relu(conv1)\n",
    "\n",
    "    # SOLUTION: Pooling. Input = 28x28x6. Output = 14x14x6.\n",
    "    conv1 = tf.nn.max_pool(conv1, ksize=[1, 2, 2, 1], strides=[1, 2, 2, 1], padding='VALID')\n",
    "\n",
    "    # SOLUTION: Layer 2: Convolutional. Output = 10x10x16.\n",
    "    conv2_W = tf.Variable(tf.truncated_normal(shape=(5, 5, 6, 16), mean = mu, stddev = sigma))\n",
    "    conv2_b = tf.Variable(tf.zeros(16))\n",
    "    conv2   = tf.nn.conv2d(conv1, conv2_W, strides=[1, 1, 1, 1], padding='VALID') + conv2_b\n",
    "    \n",
    "    # SOLUTION: Activation.\n",
    "    conv2 = tf.nn.relu(conv2, name='relu')\n",
    "\n",
    "    # SOLUTION: Pooling. Input = 10x10x16. Output = 5x5x16.\n",
    "    conv2 = tf.nn.max_pool(conv2, ksize=[1, 2, 2, 1], strides=[1, 2, 2, 1], padding='VALID')\n",
    "\n",
    "    # SOLUTION: Flatten. Input = 5x5x16. Output = 400.\n",
    "    fc0   = flatten(conv2)\n",
    "    \n",
    "    # SOLUTION: Layer 3: Fully Connected. Input = 400. Output = 120.\n",
    "    fc1_W = tf.Variable(tf.truncated_normal(shape=(400, 120), mean = mu, stddev = sigma))\n",
    "    fc1_b = tf.Variable(tf.zeros(120))\n",
    "    fc1   = tf.matmul(fc0, fc1_W) + fc1_b\n",
    "    \n",
    "    # SOLUTION: Activation.\n",
    "    fc1    = tf.nn.relu(fc1)\n",
    "\n",
    "    # SOLUTION: Layer 4: Fully Connected. Input = 120. Output = 84.\n",
    "    fc2_W  = tf.Variable(tf.truncated_normal(shape=(120, 84), mean = mu, stddev = sigma))\n",
    "    fc2_b  = tf.Variable(tf.zeros(84))\n",
    "    fc2    = tf.matmul(fc1, fc2_W) + fc2_b\n",
    "    \n",
    "    # SOLUTION: Activation.\n",
    "    fc2    = tf.nn.relu(fc2)\n",
    "\n",
    "    # SOLUTION: Layer 5: Fully Connected. Input = 84. Output = 43.\n",
    "    fc3_W  = tf.Variable(tf.truncated_normal(shape=(84, 43), mean = mu, stddev = sigma))\n",
    "    fc3_b  = tf.Variable(tf.zeros(43))\n",
    "    logits = tf.matmul(fc2, fc3_W) + fc3_b\n",
    "    \n",
    "    return logits, conv1, conv2"
   ]
  },
  {
   "cell_type": "markdown",
   "metadata": {},
   "source": [
    "### Train, Validate and Test the Model"
   ]
  },
  {
   "cell_type": "markdown",
   "metadata": {},
   "source": [
    "A validation set can be used to assess how well the model is performing. A low accuracy on the training and validation\n",
    "sets imply underfitting. A high accuracy on the training set but low accuracy on the validation set implies overfitting."
   ]
  },
  {
   "cell_type": "code",
   "execution_count": null,
   "metadata": {},
   "outputs": [],
   "source": [
    "### Train your model here.\n",
    "### Calculate and report the accuracy on the training and validation set.\n",
    "### Once a final model architecture is selected, \n",
    "### the accuracy on the test set should be calculated and reported as well.\n",
    "### Feel free to use as many code cells as needed."
   ]
  },
  {
   "cell_type": "markdown",
   "metadata": {},
   "source": [
    "### Features and Labels\n",
    "Train LeNet to classify the [German Traffic Sign Dataset](http://benchmark.ini.rub.de/?section=gtsrb&subsection=dataset).\n",
    "\n",
    "`x` is a placeholder for a batch of input images.\n",
    "`y` is a placeholder for a batch of output labels.\n",
    "\n",
    "You do not need to modify this section."
   ]
  },
  {
   "cell_type": "markdown",
   "metadata": {},
   "source": [
    "#### Feeding data into the Neural Network \n",
    "\n",
    "When we need to feed data into a Neural Network, ideally we would feed all inputs together, compute the error and update the parameters (Gradient Descent). \n",
    "In real-world problems, though, we have thousands and millions of inputs, which make gradient descent computationally expensive. That's why we split the input set into several shorter pieces (called mini-batch) of size chosen by ourselves (here we chose a BATCH_SIZE = 128).\n",
    "We generally use placeholders for inputs so that we can build the graph without any value in context, but just with a proper size for the input. \n",
    "\n",
    "https://www.easy-tensorflow.com/tf-tutorials/basics/tensor-types#Creating-a-Neural-Network"
   ]
  },
  {
   "cell_type": "code",
   "execution_count": 17,
   "metadata": {},
   "outputs": [],
   "source": [
    "x = tf.placeholder(tf.float32, (None, 32, 32, 1))\n",
    "y = tf.placeholder(tf.int32, (None))\n",
    "one_hot_y = tf.one_hot(y, 43)"
   ]
  },
  {
   "cell_type": "markdown",
   "metadata": {},
   "source": [
    "Defining the placeholder shape as [None, 32, 32, 32] means that we can feed any number of images of size (32, 32, 1) to the network. "
   ]
  },
  {
   "cell_type": "markdown",
   "metadata": {},
   "source": [
    "### Training Pipeline\n",
    "Create a training pipeline that uses the model to classify the German Traffic Sign data."
   ]
  },
  {
   "cell_type": "code",
   "execution_count": 18,
   "metadata": {},
   "outputs": [],
   "source": [
    "rate = 0.001\n",
    "\n",
    "logits, conv1, conv2 = LeNet(x)\n",
    "cross_entropy = tf.nn.softmax_cross_entropy_with_logits(labels=one_hot_y, logits=logits)\n",
    "loss_operation = tf.reduce_mean(cross_entropy)\n",
    "optimizer = tf.train.AdamOptimizer(learning_rate = rate)\n",
    "training_operation = optimizer.minimize(loss_operation)"
   ]
  },
  {
   "cell_type": "markdown",
   "metadata": {},
   "source": [
    "### Model Evaluation\n",
    "Evaluate how well the loss and accuracy of the model for a given dataset."
   ]
  },
  {
   "cell_type": "code",
   "execution_count": 19,
   "metadata": {},
   "outputs": [],
   "source": [
    "correct_prediction = tf.equal(tf.argmax(logits, 1), tf.argmax(one_hot_y, 1))\n",
    "accuracy_operation = tf.reduce_mean(tf.cast(correct_prediction, tf.float32))\n",
    "saver = tf.train.Saver()\n",
    "\n",
    "def evaluate(X_data, y_data):\n",
    "    num_examples = len(X_data)\n",
    "    total_accuracy = 0\n",
    "    sess = tf.get_default_session()\n",
    "    for offset in range(0, num_examples, BATCH_SIZE):\n",
    "        batch_x, batch_y = X_data[offset:offset+BATCH_SIZE], y_data[offset:offset+BATCH_SIZE]\n",
    "        accuracy = sess.run(accuracy_operation, feed_dict={x: batch_x, y: batch_y})\n",
    "        total_accuracy += (accuracy * len(batch_x))\n",
    "    return total_accuracy / num_examples"
   ]
  },
  {
   "cell_type": "markdown",
   "metadata": {},
   "source": [
    "### Train the Model\n",
    "Run the training data through the training pipeline to train the model.\n",
    "\n",
    "Before each epoch, shuffle the training set.\n",
    "\n",
    "After each epoch, measure the loss and accuracy of the validation set.\n",
    "\n",
    "Save the model after training."
   ]
  },
  {
   "cell_type": "code",
   "execution_count": 20,
   "metadata": {},
   "outputs": [
    {
     "name": "stdout",
     "output_type": "stream",
     "text": [
      "Training...\n",
      "\n",
      "EPOCH 1 ...\n",
      "Validation Accuracy = 0.867\n",
      "\n",
      "EPOCH 2 ...\n",
      "Validation Accuracy = 0.894\n",
      "\n",
      "EPOCH 3 ...\n",
      "Validation Accuracy = 0.923\n",
      "\n",
      "EPOCH 4 ...\n",
      "Validation Accuracy = 0.898\n",
      "\n",
      "EPOCH 5 ...\n",
      "Validation Accuracy = 0.924\n",
      "\n",
      "EPOCH 6 ...\n",
      "Validation Accuracy = 0.931\n",
      "\n",
      "EPOCH 7 ...\n",
      "Validation Accuracy = 0.920\n",
      "\n",
      "EPOCH 8 ...\n",
      "Validation Accuracy = 0.915\n",
      "\n",
      "EPOCH 9 ...\n",
      "Validation Accuracy = 0.935\n",
      "\n",
      "EPOCH 10 ...\n",
      "Validation Accuracy = 0.941\n",
      "\n",
      "EPOCH 11 ...\n",
      "Validation Accuracy = 0.925\n",
      "\n",
      "EPOCH 12 ...\n",
      "Validation Accuracy = 0.942\n",
      "\n",
      "EPOCH 13 ...\n",
      "Validation Accuracy = 0.926\n",
      "\n",
      "EPOCH 14 ...\n",
      "Validation Accuracy = 0.941\n",
      "\n",
      "EPOCH 15 ...\n",
      "Validation Accuracy = 0.940\n",
      "\n",
      "Model saved\n"
     ]
    }
   ],
   "source": [
    "from sklearn.utils import shuffle\n",
    "\n",
    "with tf.Session() as sess:\n",
    "    sess.run(tf.global_variables_initializer())\n",
    "    num_examples = len(X_train_normalized)\n",
    "    \n",
    "    print(\"Training...\")\n",
    "    print()\n",
    "    for i in range(EPOCHS):\n",
    "        X_train_normalized, y_train = shuffle(X_train_normalized, y_train)\n",
    "        for offset in range(0, num_examples, BATCH_SIZE):\n",
    "            end = offset + BATCH_SIZE\n",
    "            batch_x, batch_y = X_train_normalized[offset:end], y_train[offset:end]\n",
    "            sess.run(training_operation, feed_dict={x: batch_x, y: batch_y})\n",
    "            \n",
    "        validation_accuracy = evaluate(X_valid_normalized, y_valid)\n",
    "        print(\"EPOCH {} ...\".format(i+1))\n",
    "        print(\"Validation Accuracy = {:.3f}\".format(validation_accuracy))\n",
    "        print()\n",
    "        \n",
    "    saver.save(sess, './lenet')\n",
    "    print(\"Model saved\")"
   ]
  },
  {
   "cell_type": "markdown",
   "metadata": {},
   "source": [
    "### Evaluate the Model\n",
    "Once you are completely satisfied with your model, evaluate the performance of the model on the test set.\n",
    "\n",
    "Be sure to only do this once!\n",
    "\n",
    "If you were to measure the performance of your trained model on the test set, then improve your model, and then measure the performance of your model on the test set again, that would invalidate your test results. You wouldn't get a true measure of how well your model would perform against real data."
   ]
  },
  {
   "cell_type": "code",
   "execution_count": 21,
   "metadata": {},
   "outputs": [
    {
     "name": "stdout",
     "output_type": "stream",
     "text": [
      "INFO:tensorflow:Restoring parameters from ./lenet\n",
      "Test Accuracy = 0.926\n"
     ]
    }
   ],
   "source": [
    "with tf.Session() as sess:\n",
    "    saver.restore(sess, tf.train.latest_checkpoint('.'))\n",
    "\n",
    "    test_accuracy = evaluate(X_test_normalized, y_test)\n",
    "    print(\"Test Accuracy = {:.3f}\".format(test_accuracy))"
   ]
  },
  {
   "cell_type": "markdown",
   "metadata": {},
   "source": [
    "---\n",
    "\n",
    "## Step 3: Test a Model on New Images\n",
    "\n",
    "To give yourself more insight into how your model is working, download at least five pictures of German traffic signs from the web and use your model to predict the traffic sign type.\n",
    "\n",
    "You may find `signnames.csv` useful as it contains mappings from the class id (integer) to the actual sign name."
   ]
  },
  {
   "cell_type": "markdown",
   "metadata": {},
   "source": [
    "### Load and Output the Images"
   ]
  },
  {
   "cell_type": "code",
   "execution_count": 22,
   "metadata": {},
   "outputs": [
    {
     "name": "stdout",
     "output_type": "stream",
     "text": [
      "<class 'numpy.ndarray'>\n",
      "(10, 32, 32, 3)\n"
     ]
    }
   ],
   "source": [
    "### Load the images and plot them here.\n",
    "### Feel free to use as many code cells as needed.\n",
    "import glob\n",
    "from PIL import Image\n",
    "\n",
    "# https://stackoverflow.com/questions/51178166/iterate-through-folder-with-pillow-image-open\n",
    "german_traffic_images = glob.glob('./german_traffic_signs/*.jpg')\n",
    "\n",
    "# Create a 4D Numpy array from images\n",
    "# https://stackoverflow.com/questions/50195967/how-can-i-create-a-4d-numpy-array-from-images\n",
    "\n",
    "# Create an empty list\n",
    "traffic_sign_list = []\n",
    "# Create an empty Numpy array\n",
    "traffic_sign_test = np.array([])\n",
    "\n",
    "for traffic_sign in german_traffic_images:\n",
    "    with open(traffic_sign, 'rb') as file:\n",
    "        # Load and resize the images\n",
    "        sign_img = Image.open(file).resize((32, 32))\n",
    "        # Convert the image to a Numpy array\n",
    "        sign_img_data = np.asarray(sign_img)\n",
    "        traffic_sign_list.append(sign_img_data)\n",
    "traffic_sign_test = np.stack(traffic_sign_list, axis = 0)\n",
    "\n",
    "print(type(traffic_sign_test))\n",
    "print(traffic_sign_test.shape)"
   ]
  },
  {
   "cell_type": "code",
   "execution_count": 23,
   "metadata": {},
   "outputs": [
    {
     "name": "stdout",
     "output_type": "stream",
     "text": [
      "(10,)\n"
     ]
    }
   ],
   "source": [
    "# 1D array containing the class of the each downloaded image. \n",
    "y_traffic_signs = np.array([13, 33, 17, 21, 18, 4, 25, 40, 38, 28])\n",
    "print(y_traffic_signs.shape)"
   ]
  },
  {
   "cell_type": "markdown",
   "metadata": {},
   "source": [
    "#### Plot the images"
   ]
  },
  {
   "cell_type": "code",
   "execution_count": 24,
   "metadata": {},
   "outputs": [
    {
     "data": {
      "image/png": "[encoded data removed]",
      "text/plain": [
       "<matplotlib.figure.Figure at 0x7f58c2714ef0>"
      ]
     },
     "metadata": {
      "needs_background": "light"
     },
     "output_type": "display_data"
    }
   ],
   "source": [
    "# Plot the 10 downloaded images in 2 rows and 5 columns\n",
    "fig, sub_axs = plt.subplots(2, 5, figsize = (15, 7))\n",
    "\n",
    "# Counter for the sign position in the traffic_sign_test tensor\n",
    "sign_number = 0\n",
    "\n",
    "# Loop over the rows and columns\n",
    "for i in range(2):\n",
    "    for j in range(5):\n",
    "        sub_axs[i][j].imshow(traffic_sign_test[sign_number])\n",
    "        traffic_sign_label = labels[y_traffic_signs[sign_number]]\n",
    "        sub_axs[i][j].set_title(traffic_sign_label)\n",
    "        sign_number = sign_number + 1\n",
    "        \n",
    "plt.savefig('./german_traffic_signs_resized/signs.jpg')"
   ]
  },
  {
   "cell_type": "markdown",
   "metadata": {},
   "source": [
    "### Predict the Sign Type for Each Image"
   ]
  },
  {
   "cell_type": "code",
   "execution_count": null,
   "metadata": {},
   "outputs": [],
   "source": [
    "### Run the predictions here and use the model to output the prediction for each image.\n",
    "### Make sure to pre-process the images with the same pre-processing pipeline used earlier.\n",
    "### Feel free to use as many code cells as needed."
   ]
  },
  {
   "cell_type": "markdown",
   "metadata": {},
   "source": [
    "#### Preprocess the images"
   ]
  },
  {
   "cell_type": "code",
   "execution_count": 25,
   "metadata": {},
   "outputs": [
    {
     "name": "stdout",
     "output_type": "stream",
     "text": [
      "float64\n",
      "float32\n"
     ]
    }
   ],
   "source": [
    "# Transform the RGB images to grayscale. \n",
    "traffic_signs_grayscaled = grayscale(traffic_sign_test)\n",
    "print(traffic_signs_grayscaled.dtype)\n",
    "# Convert the Tensor data type to float32.\n",
    "traffic_signs_grayscaled = np.float32(traffic_signs_grayscaled)\n",
    "print(traffic_signs_grayscaled.dtype)\n",
    "# Normalize the grayscale images. \n",
    "X_traffic_signs_normalized = normalize(traffic_signs_grayscaled)"
   ]
  },
  {
   "cell_type": "markdown",
   "metadata": {},
   "source": [
    "#### Output the predictions for each signal"
   ]
  },
  {
   "cell_type": "code",
   "execution_count": 26,
   "metadata": {},
   "outputs": [
    {
     "name": "stdout",
     "output_type": "stream",
     "text": [
      "INFO:tensorflow:Restoring parameters from ./lenet\n",
      "Traffic sign `Yield` was correctly predicted as `Yield`\n",
      "Traffic sign `Turn right ahead` was correctly predicted as `Turn right ahead`\n",
      "Traffic sign `No entry` was correctly predicted as `No entry`\n",
      "Wrong prediction of `Children crossing` (id = 28) for traffic sign `Double curve` (id = 21)\n",
      "Traffic sign `General caution` was correctly predicted as `General caution`\n",
      "Traffic sign `Speed limit (70km/h)` was correctly predicted as `Speed limit (70km/h)`\n",
      "Wrong prediction of `Road narrows on the right` (id = 24) for traffic sign `Road work` (id = 25)\n",
      "Traffic sign `Roundabout mandatory` was correctly predicted as `Roundabout mandatory`\n",
      "Traffic sign `Keep right` was correctly predicted as `Keep right`\n",
      "Traffic sign `Children crossing` was correctly predicted as `Children crossing`\n"
     ]
    }
   ],
   "source": [
    "# Define the Softmax probability distribution.\n",
    "softmax_probabilities = tf.nn.softmax(logits)\n",
    "\n",
    "# Restore the previous session and run the predictions. \n",
    "with tf.Session() as sess:\n",
    "    saver.restore(sess, tf.train.latest_checkpoint('.'))\n",
    "    # Use the model to compute the probabilities for each image. \n",
    "    traffic_signs_probabilities = sess.run(softmax_probabilities, feed_dict = {x: X_traffic_signs_normalized})\n",
    "    # Compute the predictions for the list of images. \n",
    "    traffic_signs_predictions = sess.run(tf.argmax(traffic_signs_probabilities, axis = 1))\n",
    "    \n",
    "    # Iterate through the predictions for the list of new test images.\n",
    "    for i, sign_prediction in enumerate(traffic_signs_predictions):\n",
    "        # Associate a prediction to the image label for comparison. \n",
    "        sign_label_predicted = labels[sign_prediction]\n",
    "        sign_label_real_value = labels[y_traffic_signs[i]]\n",
    "        if (sign_label_predicted != sign_label_real_value):\n",
    "            print(\"Wrong prediction of `{prediction}` (id = {sign_prediction_id}) for traffic sign `{label}` (id = {y_traffic_sign_id})\".format(\n",
    "                label = sign_label_real_value, \n",
    "                prediction = sign_label_predicted,\n",
    "                sign_prediction_id = sign_prediction,\n",
    "                y_traffic_sign_id = y_traffic_signs[i]\n",
    "            ))\n",
    "        else:\n",
    "            print(\"Traffic sign `{label}` was correctly predicted as `{prediction}`\".format(label = sign_label_real_value, prediction = sign_label_predicted))"
   ]
  },
  {
   "cell_type": "markdown",
   "metadata": {},
   "source": [
    "### Analyze Performance"
   ]
  },
  {
   "cell_type": "code",
   "execution_count": 27,
   "metadata": {},
   "outputs": [
    {
     "name": "stdout",
     "output_type": "stream",
     "text": [
      "INFO:tensorflow:Restoring parameters from ./lenet\n",
      "External images Test Accuracy = 80%\n"
     ]
    }
   ],
   "source": [
    "### Calculate the accuracy for these 10 new images. \n",
    "### For example, if the model predicted 1 out of 5 signs correctly, it's 20% accurate on these new images.\n",
    "with tf.Session() as sess:\n",
    "    saver.restore(sess, tf.train.latest_checkpoint('.'))\n",
    "    test_accuracy = evaluate(X_traffic_signs_normalized, y_traffic_signs)\n",
    "    print(\"External images Test Accuracy = {:.0%}\".format(test_accuracy))"
   ]
  },
  {
   "cell_type": "markdown",
   "metadata": {},
   "source": [
    "### Output Top 5 Softmax Probabilities For Each Image Found on the Web"
   ]
  },
  {
   "cell_type": "markdown",
   "metadata": {},
   "source": [
    "For each of the new images, print out the model's softmax probabilities to show the **certainty** of the model's predictions (limit the output to the top 5 probabilities for each image). [`tf.nn.top_k`](https://www.tensorflow.org/versions/r0.12/api_docs/python/nn.html#top_k) could prove helpful here. \n",
    "\n",
    "The example below demonstrates how tf.nn.top_k can be used to find the top k predictions for each image.\n",
    "\n",
    "`tf.nn.top_k` will return the values and indices (class ids) of the top k predictions. So if k=3, for each sign, it'll return the 3 largest probabilities (out of a possible 43) and the correspoding class ids.\n",
    "\n",
    "Take this numpy array as an example. The values in the array represent predictions. The array contains softmax probabilities for five candidate images with six possible classes. `tf.nn.top_k` is used to choose the three classes with the highest probability:\n",
    "\n",
    "```\n",
    "# (5, 6) array\n",
    "a = np.array([[ 0.24879643,  0.07032244,  0.12641572,  0.34763842,  0.07893497,\n",
    "         0.12789202],\n",
    "       [ 0.28086119,  0.27569815,  0.08594638,  0.0178669 ,  0.18063401,\n",
    "         0.15899337],\n",
    "       [ 0.26076848,  0.23664738,  0.08020603,  0.07001922,  0.1134371 ,\n",
    "         0.23892179],\n",
    "       [ 0.11943333,  0.29198961,  0.02605103,  0.26234032,  0.1351348 ,\n",
    "         0.16505091],\n",
    "       [ 0.09561176,  0.34396535,  0.0643941 ,  0.16240774,  0.24206137,\n",
    "         0.09155967]])\n",
    "```\n",
    "\n",
    "Running it through `sess.run(tf.nn.top_k(tf.constant(a), k=3))` produces:\n",
    "\n",
    "```\n",
    "TopKV2(values=array([[ 0.34763842,  0.24879643,  0.12789202],\n",
    "       [ 0.28086119,  0.27569815,  0.18063401],\n",
    "       [ 0.26076848,  0.23892179,  0.23664738],\n",
    "       [ 0.29198961,  0.26234032,  0.16505091],\n",
    "       [ 0.34396535,  0.24206137,  0.16240774]]), indices=array([[3, 0, 5],\n",
    "       [0, 1, 4],\n",
    "       [0, 5, 1],\n",
    "       [1, 3, 5],\n",
    "       [1, 4, 3]], dtype=int32))\n",
    "```\n",
    "\n",
    "Looking just at the first row we get `[ 0.34763842,  0.24879643,  0.12789202]`, you can confirm these are the 3 largest probabilities in `a`. You'll also notice `[3, 0, 5]` are the corresponding indices."
   ]
  },
  {
   "cell_type": "code",
   "execution_count": 28,
   "metadata": {},
   "outputs": [
    {
     "name": "stdout",
     "output_type": "stream",
     "text": [
      "TopKV2(values=array([[  1.00000000e+00,   2.72653844e-11,   4.08988334e-14,\n",
      "          2.01147413e-15,   1.98939007e-15],\n",
      "       [  1.00000000e+00,   6.64677557e-09,   9.47524936e-13,\n",
      "          6.30928551e-14,   3.28796718e-15],\n",
      "       [  1.00000000e+00,   5.06897279e-23,   8.29385491e-26,\n",
      "          1.20291382e-28,   1.69206879e-29],\n",
      "       [  9.99294162e-01,   7.05794839e-04,   1.94484731e-08,\n",
      "          3.02653036e-09,   4.41710862e-10],\n",
      "       [  1.00000000e+00,   4.54397465e-14,   4.46237098e-18,\n",
      "          2.63908909e-27,   5.29484033e-30],\n",
      "       [  1.00000000e+00,   7.97923300e-17,   4.61823208e-19,\n",
      "          9.17169785e-21,   3.27281054e-24],\n",
      "       [  7.64137506e-01,   2.29526058e-01,   6.06258307e-03,\n",
      "          2.44845054e-04,   1.84406308e-05],\n",
      "       [  1.00000000e+00,   4.58592098e-08,   5.51472826e-11,\n",
      "          4.09250731e-13,   8.83051770e-14],\n",
      "       [  9.87804770e-01,   1.21952360e-02,   5.03923651e-14,\n",
      "          1.09491172e-14,   5.16195719e-25],\n",
      "       [  1.00000000e+00,   6.59842081e-13,   5.96619854e-15,\n",
      "          5.05814906e-18,   1.37574822e-20]], dtype=float32), indices=array([[13,  1, 15, 12, 35],\n",
      "       [33, 36, 35, 38, 40],\n",
      "       [17, 41,  9, 35, 14],\n",
      "       [28, 27, 11, 20, 24],\n",
      "       [18, 11, 27, 28, 26],\n",
      "       [ 4,  1,  0,  5, 39],\n",
      "       [24, 25, 23, 29, 30],\n",
      "       [40,  7, 12, 37,  8],\n",
      "       [38,  2,  1, 11, 40],\n",
      "       [28, 24, 20, 29, 11]], dtype=int32))\n"
     ]
    }
   ],
   "source": [
    "### Print out the top five softmax probabilities for the predictions on the German traffic sign images found on the web. \n",
    "### Feel free to use as many code cells as needed.\n",
    "with tf.Session() as sess:\n",
    "    top_probabilities = sess.run(tf.nn.top_k(traffic_signs_probabilities, k=5))\n",
    "    print(top_probabilities)"
   ]
  },
  {
   "cell_type": "markdown",
   "metadata": {},
   "source": [
    "### Project Writeup\n",
    "\n",
    "Once you have completed the code implementation, document your results in a project writeup using this [template](https://github.com/udacity/CarND-Traffic-Sign-Classifier-Project/blob/master/writeup_template.md) as a guide. The writeup can be in a markdown or pdf file. "
   ]
  },
  {
   "cell_type": "markdown",
   "metadata": {},
   "source": [
    "> **Note**: Once you have completed all of the code implementations and successfully answered each question above, you may finalize your work by exporting the iPython Notebook as an HTML document. You can do this by using the menu above and navigating to  \\n\",\n",
    "    \"**File -> Download as -> HTML (.html)**. Include the finished document along with this notebook as your submission."
   ]
  },
  {
   "cell_type": "markdown",
   "metadata": {},
   "source": [
    "---\n",
    "\n",
    "## Step 4 (Optional): Visualize the Neural Network's State with Test Images\n",
    "\n",
    " This Section is not required to complete but acts as an additional excersise for understaning the output of a neural network's weights. While neural networks can be a great learning device they are often referred to as a black box. We can understand what the weights of a neural network look like better by plotting their feature maps. After successfully training your neural network you can see what it's feature maps look like by plotting the output of the network's weight layers in response to a test stimuli image. From these plotted feature maps, it's possible to see what characteristics of an image the network finds interesting. For a sign, maybe the inner network feature maps react with high activation to the sign's boundary outline or to the contrast in the sign's painted symbol.\n",
    "\n",
    " Provided for you below is the function code that allows you to get the visualization output of any tensorflow weight layer you want. The inputs to the function should be a stimuli image, one used during training or a new one you provided, and then the tensorflow variable name that represents the layer's state during the training process, for instance if you wanted to see what the [LeNet lab's](https://classroom.udacity.com/nanodegrees/nd013/parts/fbf77062-5703-404e-b60c-95b78b2f3f9e/modules/6df7ae49-c61c-4bb2-a23e-6527e69209ec/lessons/601ae704-1035-4287-8b11-e2c2716217ad/concepts/d4aca031-508f-4e0b-b493-e7b706120f81) feature maps looked like for it's second convolutional layer you could enter conv2 as the tf_activation variable.\n",
    "\n",
    "For an example of what feature map outputs look like, check out NVIDIA's results in their paper [End-to-End Deep Learning for Self-Driving Cars](https://devblogs.nvidia.com/parallelforall/deep-learning-self-driving-cars/) in the section Visualization of internal CNN State. NVIDIA was able to show that their network's inner weights had high activations to road boundary lines by comparing feature maps from an image with a clear path to one without. Try experimenting with a similar test to show that your trained network's weights are looking for interesting features, whether it's looking at differences in feature maps from images with or without a sign, or even what feature maps look like in a trained network vs a completely untrained one on the same sign image.\n",
    "\n",
    "<figure>\n",
    " <img src=\"visualize_cnn.png\" width=\"380\" alt=\"Combined Image\" />\n",
    " <figcaption>\n",
    " <p></p> \n",
    " <p style=\"text-align: center;\"> Your output should look something like this (above)</p> \n",
    " </figcaption>\n",
    "</figure>\n",
    " <p></p> \n"
   ]
  },
  {
   "cell_type": "code",
   "execution_count": 29,
   "metadata": {},
   "outputs": [
    {
     "name": "stdout",
     "output_type": "stream",
     "text": [
      "(32, 32, 1)\n",
      "(1, 32, 32, 1)\n"
     ]
    }
   ],
   "source": [
    "### Visualize your network's feature maps here.\n",
    "### Feel free to use as many code cells as needed.\n",
    "\n",
    "# image_input: the test image being fed into the network to produce the feature maps\n",
    "# tf_activation: should be a tf variable name used during your training procedure that represents the calculated state of a specific weight layer\n",
    "# activation_min/max: can be used to view the activation contrast in more detail, by default matplot sets min and max to the actual min and max values of the output\n",
    "# plt_num: used to plot out multiple different weight feature map sets on the same block, just extend the plt number for each new feature map entry\n",
    "\n",
    "# Image to test. Chose the fourth image downloaded from the web, that was wrongly classified.\n",
    "test_image_misclassified = X_traffic_signs_normalized[3]\n",
    "# Add a dimension to the array, to provide a 4D tensor that is required as input to the function. \n",
    "test_image_misclassified_input = np.expand_dims(test_image_misclassified, 0)\n",
    "print(test_image_misclassified.shape)\n",
    "print(test_image_misclassified_input.shape)\n",
    "\n",
    "# Get the image that the classifier gave as result in place of the right one. \n",
    "wrong_test_image = X_traffic_signs_normalized[9]\n",
    "wrong_test_image_input = np.expand_dims(wrong_test_image, 0)\n",
    "\n",
    "\n",
    "def outputFeatureMap(image_input, label, tf_activation, activation_min=-1, activation_max=-1 ,plt_num=1):\n",
    "    # Here make sure to preprocess your image_input in a way your network expects\n",
    "    # with size, normalization, ect if needed\n",
    "    #\n",
    "    #image_input = normalize(grayscale(image_input))\n",
    "    # Note: x should be the same name as your network's tensorflow data placeholder variable\n",
    "    # If you get an error tf_activation is not defined it may be having trouble accessing the variable from inside a function\n",
    "    \n",
    "    activation = tf_activation.eval(session=sess,feed_dict={x : image_input})\n",
    "    featuremaps = activation.shape[3]\n",
    "    plt.figure(plt_num, figsize=(15,15))\n",
    "    # Add a title to the figures. \n",
    "    # See https://stackoverflow.com/questions/55767312/how-to-position-suptitle\n",
    "    plt.suptitle(str(label), size = 18, y = 0.92, color='b')\n",
    "    for featuremap in range(featuremaps):\n",
    "        plt.subplot(6,8, featuremap+1) # sets the number of feature maps to show on each row and column\n",
    "        plt.title('FeatureMap ' + str(featuremap)) # displays the feature map number\n",
    "        if activation_min != -1 & activation_max != -1:\n",
    "            plt.imshow(activation[0,:,:, featuremap], interpolation=\"nearest\", vmin =activation_min, vmax=activation_max, cmap=\"gray\")\n",
    "        elif activation_max != -1:\n",
    "            plt.imshow(activation[0,:,:, featuremap], interpolation=\"nearest\", vmax=activation_max, cmap=\"gray\")\n",
    "        elif activation_min !=-1:\n",
    "            plt.imshow(activation[0,:,:, featuremap], interpolation=\"nearest\", vmin=activation_min, cmap=\"gray\")\n",
    "        else:\n",
    "            plt.imshow(activation[0,:,:, featuremap], interpolation=\"nearest\", cmap=\"gray\")"
   ]
  },
  {
   "cell_type": "code",
   "execution_count": 30,
   "metadata": {},
   "outputs": [
    {
     "name": "stdout",
     "output_type": "stream",
     "text": [
      "INFO:tensorflow:Restoring parameters from ./lenet\n"
     ]
    },
    {
     "data": {
      "image/png": "[encoded data removed]",
      "text/plain": [
       "<matplotlib.figure.Figure at 0x7f58b4dd2278>"
      ]
     },
     "metadata": {
      "needs_background": "light"
     },
     "output_type": "display_data"
    },
    {
     "data": {
      "image/png": "[encoded data removed]",
      "text/plain": [
       "<matplotlib.figure.Figure at 0x7f58b4b8c358>"
      ]
     },
     "metadata": {
      "needs_background": "light"
     },
     "output_type": "display_data"
    },
    {
     "data": {
      "image/png": "[encoded data removed]",
      "text/plain": [
       "<matplotlib.figure.Figure at 0x7f58b49cd0b8>"
      ]
     },
     "metadata": {
      "needs_background": "light"
     },
     "output_type": "display_data"
    },
    {
     "data": {
      "image/png": "[encoded data removed]",
      "text/plain": [
       "<matplotlib.figure.Figure at 0x7f585c1d94e0>"
      ]
     },
     "metadata": {
      "needs_background": "light"
     },
     "output_type": "display_data"
    }
   ],
   "source": [
    "# Run the \"outputFeatureMap\" function \n",
    "with tf.Session() as sess:\n",
    "    sess.run(tf.global_variables_initializer())\n",
    "    saver.restore(sess, tf.train.latest_checkpoint('.'))\n",
    "    # Pass the two images to the function to plot the feature maps after the first and second Pooling layer. \n",
    "    outputFeatureMap(test_image_misclassified_input, labels[y_traffic_signs[3]], conv1)\n",
    "    outputFeatureMap(wrong_test_image_input, labels[y_traffic_signs[9]], conv1, plt_num=2)\n",
    "    outputFeatureMap(test_image_misclassified_input, labels[y_traffic_signs[3]], conv2, plt_num=3)\n",
    "    outputFeatureMap(wrong_test_image_input, labels[y_traffic_signs[9]], conv2, plt_num=4)"
   ]
  },
  {
   "cell_type": "code",
   "execution_count": null,
   "metadata": {},
   "outputs": [],
   "source": []
  }
 ],
 "metadata": {
  "anaconda-cloud": {},
  "kernelspec": {
   "display_name": "Python 3",
   "language": "python",
   "name": "python3"
  },
  "language_info": {
   "codemirror_mode": {
    "name": "ipython",
    "version": 3
   },
   "file_extension": ".py",
   "mimetype": "text/x-python",
   "name": "python",
   "nbconvert_exporter": "python",
   "pygments_lexer": "ipython3",
   "version": "3.5.2"
  },
  "widgets": {
   "state": {},
   "version": "1.1.2"
  }
 },
 "nbformat": 4,
 "nbformat_minor": 1
}
